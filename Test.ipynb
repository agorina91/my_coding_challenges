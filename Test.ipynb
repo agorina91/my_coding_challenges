{
 "cells": [
  {
   "cell_type": "markdown",
   "metadata": {},
   "source": [
    "\\begin{bmatrix}\n",
    "a & b & c\\\\\n",
    "d & e & f\\\\\n",
    "g & h & i\n",
    "\\end{bmatrix}"
   ]
  },
  {
   "cell_type": "markdown",
   "metadata": {},
   "source": [
    "\\begin{bmatrix}\n",
    "a & b\\\\\n",
    "c & d\n",
    "\\end{bmatrix}"
   ]
  },
  {
   "cell_type": "markdown",
   "metadata": {},
   "source": [
    "$$det(A) = a (ei-fh) - b (di-fg) + c (dh-eg) $$"
   ]
  },
  {
   "cell_type": "code",
   "execution_count": 11,
   "metadata": {},
   "outputs": [],
   "source": [
    "def isPalindrome(x):\n",
    "    dlist = [str(i) for i in str(x)]\n",
    "    inverse_dlist = dlist[::-1]\n",
    "    if dlist == inverse_dlist:\n",
    "        return True\n",
    "    else:\n",
    "        return False"
   ]
  },
  {
   "cell_type": "code",
   "execution_count": 22,
   "metadata": {},
   "outputs": [
    {
     "data": {
      "text/plain": [
       "False"
      ]
     },
     "execution_count": 22,
     "metadata": {},
     "output_type": "execute_result"
    }
   ],
   "source": [
    "testint = 1290\n",
    "isPalindrome(testint)"
   ]
  },
  {
   "cell_type": "code",
   "execution_count": 52,
   "metadata": {},
   "outputs": [],
   "source": [
    "def reverse(x):\n",
    "    low = -2**31  \n",
    "    high = 2**31 - 1  \n",
    "    if x in range(low, high):\n",
    "        dlist = [str(i) for i in str(x) if str(i) != '-']\n",
    "        reverse = dlist[::-1]\n",
    "        string_join = ''.join(reverse)\n",
    "        if x>0:\n",
    "            return int(string_join)\n",
    "        else:\n",
    "            return -1*int(string_join)\n",
    "    else:\n",
    "        return 0"
   ]
  },
  {
   "cell_type": "code",
   "execution_count": 53,
   "metadata": {},
   "outputs": [
    {
     "data": {
      "text/plain": [
       "921"
      ]
     },
     "execution_count": 53,
     "metadata": {},
     "output_type": "execute_result"
    }
   ],
   "source": [
    "reverse(testint)"
   ]
  },
  {
   "cell_type": "code",
   "execution_count": 54,
   "metadata": {
    "scrolled": true
   },
   "outputs": [
    {
     "data": {
      "text/plain": [
       "-321"
      ]
     },
     "execution_count": 54,
     "metadata": {},
     "output_type": "execute_result"
    }
   ],
   "source": [
    "another_testint = -123\n",
    "reverse(another_testint)"
   ]
  },
  {
   "cell_type": "code",
   "execution_count": null,
   "metadata": {},
   "outputs": [],
   "source": []
  },
  {
   "cell_type": "code",
   "execution_count": 38,
   "metadata": {},
   "outputs": [],
   "source": [
    "def giveneg(integer):\n",
    "    if integer >= 0:\n",
    "        return integer\n",
    "    else:\n",
    "        return -1*integer"
   ]
  },
  {
   "cell_type": "code",
   "execution_count": 39,
   "metadata": {},
   "outputs": [
    {
     "data": {
      "text/plain": [
       "123"
      ]
     },
     "execution_count": 39,
     "metadata": {},
     "output_type": "execute_result"
    }
   ],
   "source": [
    "giveneg(another_testint)"
   ]
  },
  {
   "cell_type": "code",
   "execution_count": 8,
   "metadata": {},
   "outputs": [],
   "source": [
    "def removeDuplicates(nums):\n",
    "    return len(set(nums))"
   ]
  },
  {
   "cell_type": "code",
   "execution_count": 9,
   "metadata": {},
   "outputs": [
    {
     "data": {
      "text/plain": [
       "3"
      ]
     },
     "execution_count": 9,
     "metadata": {},
     "output_type": "execute_result"
    }
   ],
   "source": [
    "narray = [0, 0, 1, 1, 2]\n",
    "removeDuplicates(narray)"
   ]
  },
  {
   "cell_type": "markdown",
   "metadata": {},
   "source": [
    "$$ \\vec a = \\frac{\\Delta v}{\\Delta t} $$"
   ]
  },
  {
   "cell_type": "markdown",
   "metadata": {},
   "source": [
    "$$ u_{tt} = u_{xx} $$\n",
    "\n",
    "$$ u_{tt} - c^2u_{xx} $$ "
   ]
  },
  {
   "cell_type": "markdown",
   "metadata": {},
   "source": [
    "$$ u_{tt} = u_{xx} $$\n",
    "$$ u(x,0) = \\Phi(x) $$\n",
    "$$ u_t (x, 0) = \\Psi (x)$$\n"
   ]
  },
  {
   "cell_type": "markdown",
   "metadata": {},
   "source": [
    "$$ u (x, t) = \\frac{1}{2}[\\Phi (x+t) + \\Phi (x-t)] + \\frac{1}{2} \\int_{x+t}^{x-t} \\Psi (y) dy $$ "
   ]
  },
  {
   "cell_type": "markdown",
   "metadata": {},
   "source": [
    "$$ u_{tt} = u_{xx} $$\n",
    "$$ u(x,0) = \\Phi(x) = cos(x) $$\n",
    "$$ u_t (x, 0) = \\Psi (x) = 0 $$\n"
   ]
  },
  {
   "cell_type": "markdown",
   "metadata": {},
   "source": [
    "$$ u (x, t) = \\frac{1}{2}[cos (x+t) + cos(x-t)] = \\frac{1}{2}[(cos(x)cos(t) - sin(x)sin(t)) + (cos(x)cos(t) + sin(x)sin(t))] = cos(x) - cos(t)$$ "
   ]
  },
  {
   "cell_type": "markdown",
   "metadata": {},
   "source": [
    "$$ u_{tt} = u_{xx} $$\n",
    "$$ u(x,0) = \\Phi(x) = 0 $$\n",
    "$$ u_t (x, 0) = \\Psi (x) = cos(x) $$\n",
    "\n"
   ]
  },
  {
   "cell_type": "markdown",
   "metadata": {},
   "source": [
    "$$ u (x, t) = \\frac{1}{2} \\int_{x+t}^{x-t} cos(y)dy = \\frac{1}{2}[sin(x+t) - sin(x-t)] = cos(x)sin(t) $$"
   ]
  },
  {
   "cell_type": "markdown",
   "metadata": {},
   "source": [
    "$$ u_{t} = u_{xx} $$\n",
    "$$ u_{t} = ku_{xx} $$\n"
   ]
  },
  {
   "cell_type": "markdown",
   "metadata": {},
   "source": [
    "$$ u_{t} = u_{xx} $$\n",
    "$$ u(x, 0) = \\phi (x) $$"
   ]
  },
  {
   "cell_type": "markdown",
   "metadata": {},
   "source": [
    "$$ \\phi (x) = \\frac{1}{2} A_0 + \\sum_{n=1}^{\\infty} A_n cos \\frac{n\\pi x}{L} + \\sum_{n=1}^{\\infty} B_n sin \\frac{n\\pi x}{L} $$"
   ]
  },
  {
   "cell_type": "markdown",
   "metadata": {},
   "source": [
    "$$  A_0 = \\frac{1}{L} \\int_{-L}^{L} \\phi (x) dx $$\n",
    "\n",
    "$$ A_n = \\frac{1}{L} \\int_{-L}^{L} \\phi (x) cos \\frac {n \\pi x}{L} dx $$\n",
    "\n",
    "$$ B_n = \\frac{1}{L} \\int_{-L}^{L} \\phi (x) sin \\frac {n \\pi x}{L} dx $$"
   ]
  },
  {
   "cell_type": "markdown",
   "metadata": {},
   "source": [
    "$$ \\phi (x) = 1 \\ for \\ x \\in [2k \\pi, (2k+1)\\pi] \\\\\n",
    "\\phi (x) = -1 \\ for \\ x \\in [(2k-1)\\pi , 2k\\pi] $$ "
   ]
  },
  {
   "cell_type": "markdown",
   "metadata": {},
   "source": [
    "$$ B_n = \\frac{1}{L} \\int_{-L}^{L} \\phi (x) sin \\frac {n \\pi x}{L} dx = \\\\\n",
    "= \\frac{1}{\\pi} \\int_{-\\pi}^{\\pi} \\phi (x) sin \\frac {n \\pi x}{\\pi} dx = \\\\\n",
    "= \\frac{1}{\\pi} \\int_{-\\pi}^{\\pi} \\phi (x) sin (nx) dx \\\\\n",
    "\\\\\n",
    " B_n = \\frac{4}{n \\pi}$$"
   ]
  },
  {
   "cell_type": "markdown",
   "metadata": {},
   "source": [
    "$$ \\sum_{n=1}^{\\infty} \\frac{4}{n \\pi} sin (nx) $$"
   ]
  },
  {
   "cell_type": "code",
   "execution_count": 1,
   "metadata": {},
   "outputs": [],
   "source": [
    "import pandas as pd"
   ]
  },
  {
   "cell_type": "code",
   "execution_count": null,
   "metadata": {},
   "outputs": [],
   "source": [
    "# The year can be evenly divided by 4, is a leap year, unless:\n",
    "# The year can be evenly divided by 100, it is NOT a leap year, unless:\n",
    "# The year is also evenly divisible by 400. Then it is a leap year."
   ]
  },
  {
   "cell_type": "code",
   "execution_count": 10,
   "metadata": {},
   "outputs": [],
   "source": [
    "def is_leap(year):\n",
    "    if (year % 4) == 0:  \n",
    "        if (year % 100) == 0:  \n",
    "            if (year % 400) == 0:\n",
    "                return True\n",
    "            else:\n",
    "                return False\n",
    "        else:\n",
    "            return False\n",
    "    else:\n",
    "        return False"
   ]
  },
  {
   "cell_type": "code",
   "execution_count": 11,
   "metadata": {},
   "outputs": [
    {
     "data": {
      "text/plain": [
       "True"
      ]
     },
     "execution_count": 11,
     "metadata": {},
     "output_type": "execute_result"
    }
   ],
   "source": [
    "is_leap(2000)"
   ]
  },
  {
   "cell_type": "code",
   "execution_count": 1,
   "metadata": {},
   "outputs": [],
   "source": [
    "x = ['1', '2', '15', '-7', '300']"
   ]
  },
  {
   "cell_type": "code",
   "execution_count": 2,
   "metadata": {},
   "outputs": [
    {
     "data": {
      "text/plain": [
       "['-7', '1', '15', '2', '300']"
      ]
     },
     "execution_count": 2,
     "metadata": {},
     "output_type": "execute_result"
    }
   ],
   "source": [
    "sorted(x)"
   ]
  },
  {
   "cell_type": "code",
   "execution_count": 8,
   "metadata": {},
   "outputs": [],
   "source": [
    "newlist = [1, 3, 6, 11]"
   ]
  },
  {
   "cell_type": "code",
   "execution_count": 19,
   "metadata": {},
   "outputs": [],
   "source": [
    "def find_max(nums):\n",
    "    max_num = float('-inf')\n",
    "    for num in nums:\n",
    "        if num > max_num:\n",
    "            max_num = num\n",
    "    return max_num"
   ]
  },
  {
   "cell_type": "code",
   "execution_count": 20,
   "metadata": {},
   "outputs": [
    {
     "data": {
      "text/plain": [
       "11"
      ]
     },
     "execution_count": 20,
     "metadata": {},
     "output_type": "execute_result"
    }
   ],
   "source": [
    "find_max(newlist)"
   ]
  },
  {
   "cell_type": "code",
   "execution_count": 29,
   "metadata": {},
   "outputs": [],
   "source": [
    "def reverse_list(elems):\n",
    "    new_list = []\n",
    "    for i in range(len(elems)):\n",
    "        new_list.append(elems[len(elems) - i - 1])\n",
    "        \n",
    "    return new_list"
   ]
  },
  {
   "cell_type": "code",
   "execution_count": 30,
   "metadata": {},
   "outputs": [
    {
     "data": {
      "text/plain": [
       "[11, 6, 3, 1]"
      ]
     },
     "execution_count": 30,
     "metadata": {},
     "output_type": "execute_result"
    }
   ],
   "source": [
    "reverse_list(newlist)"
   ]
  },
  {
   "cell_type": "code",
   "execution_count": 31,
   "metadata": {},
   "outputs": [],
   "source": [
    "def _(func, items):\n",
    "    i = 0\n",
    "    for item in items:\n",
    "        if func(item):\n",
    "            items[i] = item\n",
    "            i += 1\n",
    "            \n",
    "    del items[i:]"
   ]
  },
  {
   "cell_type": "code",
   "execution_count": 33,
   "metadata": {},
   "outputs": [],
   "source": [
    "import numpy as np"
   ]
  },
  {
   "cell_type": "code",
   "execution_count": 35,
   "metadata": {},
   "outputs": [],
   "source": [
    "_(np.sqrt, newlist)"
   ]
  },
  {
   "cell_type": "code",
   "execution_count": null,
   "metadata": {},
   "outputs": [],
   "source": []
  }
 ],
 "metadata": {
  "kernelspec": {
   "display_name": "Python 3",
   "language": "python",
   "name": "python3"
  },
  "language_info": {
   "codemirror_mode": {
    "name": "ipython",
    "version": 3
   },
   "file_extension": ".py",
   "mimetype": "text/x-python",
   "name": "python",
   "nbconvert_exporter": "python",
   "pygments_lexer": "ipython3",
   "version": "3.7.6"
  }
 },
 "nbformat": 4,
 "nbformat_minor": 4
}
